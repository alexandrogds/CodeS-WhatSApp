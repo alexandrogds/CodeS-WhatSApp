{
 "cells": [
  {
   "cell_type": "code",
   "execution_count": null,
   "id": "b8e48604",
   "metadata": {},
   "outputs": [
    {
     "ename": "",
     "evalue": "",
     "output_type": "error",
     "traceback": [
      "\u001b[1;31mRunning cells with 'Python 3.13.1' requires the ipykernel package.\n",
      "\u001b[1;31m<a href='command:jupyter.createPythonEnvAndSelectController'>Create a Python Environment</a> with the required packages.\n",
      "\u001b[1;31mOr install 'ipykernel' using the command: 'c:/Users/user/AppData/Local/Programs/Python/Python313/python.exe -m pip install ipykernel -U --user --force-reinstall'"
     ]
    }
   ],
   "source": [
    "import pandas as pd\n",
    "\n",
    "# Caminho do arquivo CSV\n",
    "csv_path = r\"C:\\Users\\user\\CodeS-WhatSApp\\numbersWpp\\empreendedorismo\\Mentes empreendedoras\\contacts_20250629145945.csv\"\n",
    "\n",
    "# Lê o arquivo CSV\n",
    "contatos = pd.read_csv(csv_path)\n",
    "\n",
    "# Exibe as primeiras linhas do DataFrame\n",
    "contatos.head()"
   ]
  }
 ],
 "metadata": {
  "kernelspec": {
   "display_name": "Python 3",
   "language": "python",
   "name": "python3"
  },
  "language_info": {
   "name": "python",
   "version": "3.13.1"
  }
 },
 "nbformat": 4,
 "nbformat_minor": 5
}
